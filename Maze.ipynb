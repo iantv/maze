{
 "cells": [
  {
   "cell_type": "code",
   "execution_count": 1,
   "metadata": {
    "collapsed": false
   },
   "outputs": [],
   "source": [
    "import io\n",
    "from IPython.display import display\n",
    "import fileupload\n",
    "\n",
    "fin = '';\n",
    "_upload_widget = fileupload.FileUploadWidget()\n",
    "\n",
    "def _cb(change):\n",
    "    global fin\n",
    "    decoded = io.StringIO(change['owner'].data.decode('utf-8'))\n",
    "    filename = change['owner'].filename\n",
    "    fin = filename;\n",
    "    print('Uploaded `{}` ({:.2f} kB)'.format(\n",
    "        filename, len(decoded.read()) / 2 **10))\n",
    "\n",
    "_upload_widget.observe(_cb, names='data')\n",
    "display(_upload_widget)"
   ]
  },
  {
   "cell_type": "code",
   "execution_count": 2,
   "metadata": {
    "collapsed": false
   },
   "outputs": [
    {
     "data": {
      "text/plain": [
       "''"
      ]
     },
     "execution_count": 2,
     "metadata": {},
     "output_type": "execute_result"
    }
   ],
   "source": [
    "fin"
   ]
  },
  {
   "cell_type": "code",
   "execution_count": null,
   "metadata": {
    "collapsed": true
   },
   "outputs": [],
   "source": []
  }
 ],
 "metadata": {
  "kernelspec": {
   "display_name": "Python 3",
   "language": "python",
   "name": "python3"
  },
  "language_info": {
   "codemirror_mode": {
    "name": "ipython",
    "version": 3
   },
   "file_extension": ".py",
   "mimetype": "text/x-python",
   "name": "python",
   "nbconvert_exporter": "python",
   "pygments_lexer": "ipython3",
   "version": "3.5.2"
  },
  "widgets": {
   "state": {
    "192f664b3a964f4e9b7f4b1624ce1ba3": {
     "views": [
      {
       "cell_index": 0
      }
     ]
    }
   },
   "version": "1.2.0"
  }
 },
 "nbformat": 4,
 "nbformat_minor": 2
}
