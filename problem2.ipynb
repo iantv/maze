{
 "cells": [
  {
   "cell_type": "markdown",
   "metadata": {},
   "source": [
    "# Лабораторная работа №1"
   ]
  },
  {
   "cell_type": "markdown",
   "metadata": {},
   "source": [
    "#### Постановка задачи\n",
    "Дан неориентированный граф и две вершины <i>u</i> и <i>v</i>. Проверить существует ли путь между <i>u</i> и <i>v</i>.\n",
    "#### Формат входных данных\n",
    "Неориентированный граф с <i>n</i> вершинами и <i>m</i> ребрами. Следующие строки содержат две вершины <i>u</i> и <i>v</i> графа\n",
    "#### Ограничения\n",
    "2 <= <i>n</i> <= 10^3; 1 <= <i>m</i> <= 10^3; 1 <= <i>u, v</i> <= n; <i>u</i> != <i>v</i>\n",
    "#### Формат выходных данных\n",
    "1 если путь между <i>u</i> и <i>v</i> существует, 0 иначе"
   ]
  },
  {
   "cell_type": "code",
   "execution_count": 14,
   "metadata": {
    "collapsed": false
   },
   "outputs": [
    {
     "name": "stdout",
     "output_type": "stream",
     "text": [
      "Uploaded `13.in` (8.59 kB)\n"
     ]
    }
   ],
   "source": [
    "import io\n",
    "from IPython.display import display\n",
    "import fileupload\n",
    "\n",
    "fin = ''; # Здесь будет название файла, в котором будут тесты\n",
    "# В данной ячейке представлен код для создания и отображения виджета\n",
    "# Создание виджета для загрузки файла, в которых находятся тесты\n",
    "_upload_widget = fileupload.FileUploadWidget()\n",
    "\n",
    "# Функция обратного вызова для виджета загрузки файла\n",
    "def _cb(change):\n",
    "    global fin\n",
    "    decoded = io.StringIO(change['owner'].data.decode('utf-8'))\n",
    "    fin = change['owner'].filename\n",
    "    print('Uploaded `{}` ({:.2f} kB)'.format(fin, len(decoded.read()) / 2 **10))\n",
    "\n",
    "_upload_widget.observe(_cb, names='data')\n",
    "display(_upload_widget) # Отображение виджета"
   ]
  },
  {
   "cell_type": "markdown",
   "metadata": {},
   "source": [
    "#### Инициализация\n",
    "\n",
    "Считывание файла, в котором граф представлен в виде списка ребёр с заданным количеством вершин.\n",
    "Также созданим объект графа graphviz'a, который необходим для визуализации графа (с количеством вершин не более 100)."
   ]
  },
  {
   "cell_type": "code",
   "execution_count": 15,
   "metadata": {
    "collapsed": false,
    "scrolled": false
   },
   "outputs": [],
   "source": [
    "import problem2.main as p2\n",
    "import graphviz as gv\n",
    "\n",
    "# Считывание строк из файла\n",
    "f = open(\"tests/\" + fin, \"r\")\n",
    "lines = [ line for line in f ]\n",
    "n, m = lines[0].split()\n",
    "n = int(n)\n",
    "m = int(m)\n",
    "a, b = lines[m + 1].split()\n",
    "a = int(a) - 1\n",
    "b = int(b) - 1\n",
    "# Graph - функция graphviz'a, которая создает объект граф\n",
    "dot = gv.Graph(comment = \"test\")\n",
    "\n",
    "# Добавление узлов, с установкой цвета:\n",
    "# синим цветом выделяются узлы, между которыми нужно найти путь\n",
    "# остальные узлы - черные\n",
    "for v in range(1, n + 1):\n",
    "    vcolor = \"blue\" if (v == a + 1 or v == b + 1) else \"black\"\n",
    "    dot.node(str(v), color=vcolor) \n",
    "\n",
    "# Добавление ребер    \n",
    "for i in range(1, m + 1):\n",
    "    u, v = lines[i].split()\n",
    "    dot.edge(str(int(u)), str(int(v)))\n",
    "\n",
    "# Визуализация графа\n",
    "if (n <= 100):\n",
    "    dot"
   ]
  },
  {
   "cell_type": "markdown",
   "metadata": {},
   "source": [
    "#### Описание алгоритма\n",
    "Чтобы найти путь от одной вершины в другую, запускаем dfs от одной вершины до тех пор пока не достигнем вторую вершину.\n",
    "Алгоритм описан в"
   ]
  },
  {
   "cell_type": "code",
   "execution_count": 16,
   "metadata": {
    "collapsed": false
   },
   "outputs": [
    {
     "data": {
      "text/html": [
       "<a href='problem2/main.py' target='_blank'>problem2/main.py</a><br>"
      ],
      "text/plain": [
       "C:\\Users\\iantv\\Documents\\PyProjects\\graph\\maze\\problem2\\main.py"
      ]
     },
     "execution_count": 16,
     "metadata": {},
     "output_type": "execute_result"
    }
   ],
   "source": [
    "from IPython.display import FileLink, FileLinks\n",
    "FileLink('problem2/main.py')"
   ]
  },
  {
   "cell_type": "code",
   "execution_count": 18,
   "metadata": {
    "collapsed": false
   },
   "outputs": [
    {
     "name": "stdout",
     "output_type": "stream",
     "text": [
      "time:  0.0018781852909341978\n"
     ]
    }
   ],
   "source": [
    "G = p2.graph_init(lines, n, m) # Инициализация графа. G - граф\n",
    "path = p2.solve(G, a, b) # solve принимает граф, и два узла, между которыми необходимо найти путь. Возвращает путь в path\n",
    "# print(path) # Вывод пути\n",
    "\n",
    "# Строим новый граф, уже с прорисованным путем\n",
    "dot = gv.Graph(comment = \"test\")\n",
    "\n",
    "# Добавление узлов.\n",
    "# красным цветом выделены все узлы, через которые проходит путь, \n",
    "# включая узлы между которыми нужно найти путь\n",
    "# то есть, если путь не найден, то все узлы будут черными\n",
    "for v in range(1, n + 1):\n",
    "    vcolor=\"black\"\n",
    "    if (v in path):\n",
    "        vcolor=\"red\"\n",
    "    dot.node(str(v), color=vcolor)\n",
    "\n",
    "# Добавление ребер\n",
    "# красным цветом выделяются все ребра между вершинами из найденного пути\n",
    "# черным - остальные ребра\n",
    "# то есть, если путь не найден, все ребра окрашены в черный.\n",
    "for i in range(1, m + 1):\n",
    "    u, v = lines[i].split()\n",
    "    ecolor = \"black\"\n",
    "    for i in range(len(path) - 1):\n",
    "        j = i + 1\n",
    "        if (path[i] == int(u) and path[j] == int(v)) or (path[i] == int(v) and path[j] == int(u)):\n",
    "            ecolor = \"red\"\n",
    "            break\n",
    "    dot.edge(u, v, color = ecolor)\n",
    "\n",
    "# Визуализация графа\n",
    "if n <= 100:\n",
    "    dot"
   ]
  },
  {
   "cell_type": "code",
   "execution_count": null,
   "metadata": {
    "collapsed": true
   },
   "outputs": [],
   "source": []
  }
 ],
 "metadata": {
  "kernelspec": {
   "display_name": "Python 3",
   "language": "python",
   "name": "python3"
  },
  "language_info": {
   "codemirror_mode": {
    "name": "ipython",
    "version": 3
   },
   "file_extension": ".py",
   "mimetype": "text/x-python",
   "name": "python",
   "nbconvert_exporter": "python",
   "pygments_lexer": "ipython3",
   "version": "3.5.2"
  }
 },
 "nbformat": 4,
 "nbformat_minor": 2
}
