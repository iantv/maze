{
 "cells": [
  {
   "cell_type": "markdown",
   "metadata": {},
   "source": [
    "#### Постановка задачи\n",
    "Adding Exits to a Maze (добавление выходов в лабиринт).\n",
    "\n",
    "Для неориентированного графа с n вершинами и m ребрами вычислить число компонент связности.\n",
    "\n",
    "#### Формат входных данных\n",
    "Неориентированный граф с <i>n</i> вершинами и <i>m</i> ребрами. Следующие строки содержат две вершины <i>u</i> и <i>v</i> графа\n",
    "\n",
    "#### Ограничения\n",
    "m <= 10^3\n",
    "n <= 10^3\n",
    "\n",
    "#### Формат выходных данных\n",
    "\n",
    "Одно целое число, обозначающее количество компонент связности в графе, описанным файлом входных данных."
   ]
  },
  {
   "cell_type": "code",
   "execution_count": 1,
   "metadata": {
    "collapsed": false
   },
   "outputs": [
    {
     "name": "stdout",
     "output_type": "stream",
     "text": [
      "Uploaded `13.in` (8.59 kB)\n"
     ]
    }
   ],
   "source": [
    "import io\n",
    "from IPython.display import display\n",
    "import fileupload\n",
    "\n",
    "fin = ''; # Здесь будет название файла, в котором будут тесты\n",
    "# В данной ячейке представлен код для создания и отображения виджета\n",
    "# Создание виджета для загрузки файла, в которых находятся тесты\n",
    "_upload_widget = fileupload.FileUploadWidget()\n",
    "\n",
    "# Функция обратного вызова для виджета загрузки файла\n",
    "def _cb(change):\n",
    "    global fin\n",
    "    decoded = io.StringIO(change['owner'].data.decode('utf-8'))\n",
    "    fin = change['owner'].filename\n",
    "    print('Uploaded `{}` ({:.2f} kB)'.format(fin, len(decoded.read()) / 2 **10))\n",
    "\n",
    "_upload_widget.observe(_cb, names='data')\n",
    "display(_upload_widget) # Отображение виджета"
   ]
  },
  {
   "cell_type": "markdown",
   "metadata": {},
   "source": [
    "#### Инициализация\n",
    "\n",
    "Считывание файла, в котором граф представлен в виде списка ребёр с заданным количеством вершин.\n",
    "Также созданим объект графа graphviz'a, который необходим для визуализации графа (с количеством вершин не более 100)."
   ]
  },
  {
   "cell_type": "code",
   "execution_count": 2,
   "metadata": {
    "collapsed": true
   },
   "outputs": [],
   "source": [
    "import problem3.main as p3 # Модуль с реализованными алгоритмами\n",
    "import graphviz as gv\n",
    "\n",
    "# Считывание строк из файла\n",
    "f = open(\"tests/\" + fin, \"r\")\n",
    "lines = [ line for line in f ]\n",
    "\n",
    "n, m = lines[0].split()\n",
    "n = int(n)\n",
    "m = int(m)\n",
    "\n",
    "# Graph - функция graphviz'a, которая создает объект граф\n",
    "dot = gv.Graph(comment = \"test\")\n",
    "\n",
    "# Добавление узлов\n",
    "for v in range(1, n + 1):\n",
    "    dot.node(str(v))\n",
    "\n",
    "# Добавление ребер    \n",
    "for i in range(1, m + 1):\n",
    "    u, v = lines[i].split()\n",
    "    dot.edge(u, v)\n",
    "\n",
    "# Визуализация графа\n",
    "if n <= 100:\n",
    "    dot"
   ]
  },
  {
   "cell_type": "markdown",
   "metadata": {},
   "source": [
    "#### Решение\n",
    "\n",
    "Инициализация и запуск алгоритма решения.\n",
    "Вывод количества компонент связности.\n",
    "\n",
    "#### Алгоритм\n",
    "\n",
    "Идея:\n",
    "1. Запускаем DFS для каждой непомеченной вершины (В начальный момент времени все вершины непомечены).\n",
    "2. Таким образом после работы DFS'a от заданной вершины, все вершины данной компоненты связности будут помечены.\n",
    "3. Увеличиваем счётчик на 1 (count).\n",
    "4. Повторяем 1-3 для каждой вершины.\n",
    "5. count - количество компонент связности."
   ]
  },
  {
   "cell_type": "code",
   "execution_count": 3,
   "metadata": {
    "collapsed": false
   },
   "outputs": [
    {
     "name": "stdout",
     "output_type": "stream",
     "text": [
      "time:  0.0020121963423289442\n",
      "1\n"
     ]
    }
   ],
   "source": [
    "G = p3.graph_init(lines, n, m) # Инициализация графа. G - граф\n",
    "components_count = p3.solve(G) # solve возвращает количество компонент связности, работает на dfs\n",
    "print(components_count) # Вывод количества компонент связности"
   ]
  },
  {
   "cell_type": "markdown",
   "metadata": {
    "collapsed": true
   },
   "source": [
    "#### Код:"
   ]
  },
  {
   "cell_type": "code",
   "execution_count": 4,
   "metadata": {
    "collapsed": false
   },
   "outputs": [
    {
     "data": {
      "text/html": [
       "<a href='problem3/main.py' target='_blank'>problem3/main.py</a><br>"
      ],
      "text/plain": [
       "C:\\Users\\Misha\\Desktop\\maze\\problem3\\main.py"
      ]
     },
     "execution_count": 4,
     "metadata": {},
     "output_type": "execute_result"
    }
   ],
   "source": [
    "from IPython.display import FileLink, FileLinks\n",
    "FileLink('problem3/main.py')"
   ]
  },
  {
   "cell_type": "markdown",
   "metadata": {},
   "source": [
    "#### Тестирование\n",
    "Работоспособность алгоритма проверена на 13 тестах."
   ]
  },
  {
   "cell_type": "code",
   "execution_count": null,
   "metadata": {
    "collapsed": true
   },
   "outputs": [],
   "source": []
  }
 ],
 "metadata": {
  "anaconda-cloud": {},
  "kernelspec": {
   "display_name": "Python [default]",
   "language": "python",
   "name": "python3"
  },
  "language_info": {
   "codemirror_mode": {
    "name": "ipython",
    "version": 3
   },
   "file_extension": ".py",
   "mimetype": "text/x-python",
   "name": "python",
   "nbconvert_exporter": "python",
   "pygments_lexer": "ipython3",
   "version": "3.5.2"
  },
  "widgets": {
   "state": {
    "d527493082da49c29fdca2a3ef7e3931": {
     "views": [
      {
       "cell_index": 1
      }
     ]
    },
    "fbe42390cd754609b43baff112833475": {
     "views": [
      {
       "cell_index": 0
      }
     ]
    }
   },
   "version": "1.2.0"
  }
 },
 "nbformat": 4,
 "nbformat_minor": 2
}
