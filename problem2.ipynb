{
 "cells": [
  {
   "cell_type": "code",
   "execution_count": 1,
   "metadata": {
    "collapsed": false
   },
   "outputs": [
    {
     "name": "stdout",
     "output_type": "stream",
     "text": [
      "Uploaded `10.in` (8.24 kB)\n"
     ]
    }
   ],
   "source": [
    "import io\n",
    "from IPython.display import display\n",
    "import fileupload\n",
    "\n",
    "fin = '';\n",
    "_upload_widget = fileupload.FileUploadWidget()\n",
    "\n",
    "def _cb(change):\n",
    "    global fin\n",
    "    decoded = io.StringIO(change['owner'].data.decode('utf-8'))\n",
    "    filename = change['owner'].filename\n",
    "    fin = filename;\n",
    "    print('Uploaded `{}` ({:.2f} kB)'.format(\n",
    "        filename, len(decoded.read()) / 2 **10))\n",
    "\n",
    "_upload_widget.observe(_cb, names='data')\n",
    "display(_upload_widget)"
   ]
  },
  {
   "cell_type": "code",
   "execution_count": 2,
   "metadata": {
    "collapsed": false,
    "scrolled": false
   },
   "outputs": [
    {
     "ename": "SyntaxError",
     "evalue": "invalid syntax (main.py, line 1)",
     "output_type": "error",
     "traceback": [
      "\u001b[0;36m  File \u001b[0;32m\"C:\\Users\\iantv\\Documents\\PyProjects\\graph\\maze\\problem2\\main.py\"\u001b[0;36m, line \u001b[0;32m1\u001b[0m\n\u001b[0;31m    import time from time\u001b[0m\n\u001b[0m                   ^\u001b[0m\n\u001b[0;31mSyntaxError\u001b[0m\u001b[0;31m:\u001b[0m invalid syntax\n"
     ]
    }
   ],
   "source": [
    "import problem2.main as p2\n",
    "import graphviz as gv\n",
    "\n",
    "f = open(\"tests/\" + fin, \"r\")\n",
    "lines = [ line for line in f ]\n",
    "n, m = lines[0].split()\n",
    "n = int(n)\n",
    "m = int(m)\n",
    "a, b = lines[m + 1].split()\n",
    "a = int(a) - 1\n",
    "b = int(b) - 1\n",
    "\n",
    "dot = gv.Graph(comment = \"test\")\n",
    "\n",
    "for v in range(1, n + 1):\n",
    "    vcolor = \"blue\" if (v == a + 1 or v == b + 1) else \"black\"\n",
    "    dot.node(str(v), color=vcolor)\n",
    "\n",
    "for i in range(1, m + 1):\n",
    "    u, v = lines[i].split()\n",
    "    dot.edge(str(int(u)), str(int(v)))\n",
    "#dot"
   ]
  },
  {
   "cell_type": "code",
   "execution_count": 3,
   "metadata": {
    "collapsed": false
   },
   "outputs": [
    {
     "ename": "AttributeError",
     "evalue": "'builtin_function_or_method' object has no attribute 'clock'",
     "output_type": "error",
     "traceback": [
      "\u001b[0;31m---------------------------------------------------------------------------\u001b[0m",
      "\u001b[0;31mAttributeError\u001b[0m                            Traceback (most recent call last)",
      "\u001b[0;32m<ipython-input-3-4baccfc6d62d>\u001b[0m in \u001b[0;36m<module>\u001b[0;34m()\u001b[0m\n\u001b[1;32m      1\u001b[0m \u001b[1;33m\u001b[0m\u001b[0m\n\u001b[1;32m      2\u001b[0m \u001b[0mG\u001b[0m \u001b[1;33m=\u001b[0m \u001b[0mp2\u001b[0m\u001b[1;33m.\u001b[0m\u001b[0mgraph_init\u001b[0m\u001b[1;33m(\u001b[0m\u001b[0mlines\u001b[0m\u001b[1;33m,\u001b[0m \u001b[0mn\u001b[0m\u001b[1;33m,\u001b[0m \u001b[0mm\u001b[0m\u001b[1;33m)\u001b[0m\u001b[1;33m\u001b[0m\u001b[0m\n\u001b[0;32m----> 3\u001b[0;31m \u001b[0mpath\u001b[0m \u001b[1;33m=\u001b[0m \u001b[0mp2\u001b[0m\u001b[1;33m.\u001b[0m\u001b[0msolve\u001b[0m\u001b[1;33m(\u001b[0m\u001b[0mG\u001b[0m\u001b[1;33m,\u001b[0m \u001b[0ma\u001b[0m\u001b[1;33m,\u001b[0m \u001b[0mb\u001b[0m\u001b[1;33m)\u001b[0m\u001b[1;33m\u001b[0m\u001b[0m\n\u001b[0m\u001b[1;32m      4\u001b[0m \u001b[0mprint\u001b[0m\u001b[1;33m(\u001b[0m\u001b[0mpath\u001b[0m\u001b[1;33m)\u001b[0m\u001b[1;33m\u001b[0m\u001b[0m\n\u001b[1;32m      5\u001b[0m \u001b[1;33m\u001b[0m\u001b[0m\n",
      "\u001b[0;32mC:\\Users\\iantv\\Documents\\PyProjects\\graph\\maze\\problem2\\main.py\u001b[0m in \u001b[0;36msolve\u001b[0;34m(graph, a, b)\u001b[0m\n\u001b[1;32m     29\u001b[0m \u001b[1;33m\u001b[0m\u001b[0m\n\u001b[1;32m     30\u001b[0m \u001b[1;32mdef\u001b[0m \u001b[0msolve\u001b[0m\u001b[1;33m(\u001b[0m\u001b[0mgraph\u001b[0m\u001b[1;33m,\u001b[0m \u001b[0ma\u001b[0m\u001b[1;33m,\u001b[0m \u001b[0mb\u001b[0m\u001b[1;33m)\u001b[0m\u001b[1;33m:\u001b[0m\u001b[1;33m\u001b[0m\u001b[0m\n\u001b[0;32m---> 31\u001b[0;31m     \u001b[0mbegin\u001b[0m \u001b[1;33m=\u001b[0m \u001b[0mtime\u001b[0m\u001b[1;33m.\u001b[0m\u001b[0mclock\u001b[0m\u001b[1;33m(\u001b[0m\u001b[1;33m)\u001b[0m\u001b[1;33m\u001b[0m\u001b[0m\n\u001b[0m\u001b[1;32m     32\u001b[0m     \u001b[0mpath\u001b[0m \u001b[1;33m=\u001b[0m \u001b[0mdfs\u001b[0m\u001b[1;33m(\u001b[0m\u001b[0mgraph\u001b[0m\u001b[1;33m,\u001b[0m \u001b[0ma\u001b[0m\u001b[1;33m,\u001b[0m \u001b[0mb\u001b[0m\u001b[1;33m)\u001b[0m\u001b[1;33m\u001b[0m\u001b[0m\n\u001b[1;32m     33\u001b[0m     \u001b[0mprint\u001b[0m\u001b[1;33m(\u001b[0m\u001b[1;34m\"time: %f\"\u001b[0m\u001b[1;33m,\u001b[0m \u001b[0mbegin\u001b[0m \u001b[1;33m-\u001b[0m \u001b[0mtime\u001b[0m\u001b[1;33m.\u001b[0m\u001b[0mclock\u001b[0m\u001b[1;33m(\u001b[0m\u001b[1;33m)\u001b[0m\u001b[1;33m)\u001b[0m\u001b[1;33m\u001b[0m\u001b[0m\n",
      "\u001b[0;31mAttributeError\u001b[0m: 'builtin_function_or_method' object has no attribute 'clock'"
     ]
    }
   ],
   "source": [
    "\n",
    "G = p2.graph_init(lines, n, m)\n",
    "path = p2.solve(G, a, b)\n",
    "print(path)\n",
    "\n",
    "dot = gv.Graph(comment = \"test\")\n",
    "\n",
    "\n",
    "for v in range(1, n + 1):\n",
    "    vcolor=\"black\"\n",
    "    if (v in path):\n",
    "        vcolor=\"red\"\n",
    "    dot.node(str(v), color=vcolor)\n",
    "    \n",
    "for i in range(1, m + 1):\n",
    "    u, v = lines[i].split()\n",
    "    ecolor = \"black\"\n",
    "    for i in range(len(path) - 1):\n",
    "        j = i + 1\n",
    "        if (path[i] == int(u) and path[j] == int(v)) or (path[i] == int(v) and path[j] == int(u)):\n",
    "            ecolor = \"red\"\n",
    "            break\n",
    "    dot.edge(u, v, color = ecolor)\n",
    "\n",
    "dot\n"
   ]
  },
  {
   "cell_type": "code",
   "execution_count": null,
   "metadata": {
    "collapsed": true
   },
   "outputs": [],
   "source": []
  }
 ],
 "metadata": {
  "kernelspec": {
   "display_name": "Python 3",
   "language": "python",
   "name": "python3"
  },
  "language_info": {
   "codemirror_mode": {
    "name": "ipython",
    "version": 3
   },
   "file_extension": ".py",
   "mimetype": "text/x-python",
   "name": "python",
   "nbconvert_exporter": "python",
   "pygments_lexer": "ipython3",
   "version": "3.5.2"
  },
  "widgets": {
   "state": {
    "c3aa146fa5d64058ba23e54dadbd9a1c": {
     "views": [
      {
       "cell_index": 0
      }
     ]
    }
   },
   "version": "1.2.0"
  }
 },
 "nbformat": 4,
 "nbformat_minor": 2
}
